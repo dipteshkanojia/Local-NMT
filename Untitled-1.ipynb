{
 "cells": [
  {
   "cell_type": "code",
   "execution_count": 1,
   "metadata": {},
   "outputs": [],
   "source": [
    "import flask\n",
    "from flask import Flask, flash, Response, redirect, url_for, request, session, abort, render_template, make_response, jsonify\n",
    "from transformers import MarianTokenizer, MarianMTModel\n",
    "from typing import List\n",
    "import os\n",
    "import json"
   ]
  },
  {
   "cell_type": "code",
   "execution_count": 2,
   "metadata": {},
   "outputs": [],
   "source": [
    "model_name = f'Helsinki-NLP/opus-mt-en-mul'\n",
    "model = MarianMTModel.from_pretrained(model_name)\n",
    "tokenizer = MarianTokenizer.from_pretrained(model_name)"
   ]
  },
  {
   "cell_type": "code",
   "execution_count": 8,
   "metadata": {},
   "outputs": [],
   "source": [
    "batch = tokenizer([\"The digital age, also referred to as the information society, is characterized by ever growing volumes of information.\"], return_tensors=\"pt\", padding=True)\n",
    "                \n",
    "# tokenized text maximum allowed size of 512\n",
    "batch[\"input_ids\"] = batch[\"input_ids\"][:, :512]\n",
    "batch[\"attention_mask\"] = batch[\"attention_mask\"][:, :512]\n",
    "translation_encoded = model.generate(**batch)\n",
    "translation = tokenizer.batch_decode(translation_encoded, skip_special_tokens=True)"
   ]
  },
  {
   "cell_type": "code",
   "execution_count": 9,
   "metadata": {},
   "outputs": [
    {
     "name": "stdout",
     "output_type": "stream",
     "text": [
      "En edat digital, denominat arī informationssociety, caracterizează pel encaps crescente volume de information.\n"
     ]
    }
   ],
   "source": [
    "print(translation[0])"
   ]
  },
  {
   "cell_type": "code",
   "execution_count": null,
   "metadata": {},
   "outputs": [],
   "source": []
  }
 ],
 "metadata": {
  "interpreter": {
   "hash": "8d82ab2ae30a554bdfcb159b33d0a1b8d48b75e1aea5ce124fe8c7c5a8946a9b"
  },
  "kernelspec": {
   "display_name": "Python 3.6.13 64-bit ('translate': conda)",
   "name": "python3"
  },
  "language_info": {
   "codemirror_mode": {
    "name": "ipython",
    "version": 3
   },
   "file_extension": ".py",
   "mimetype": "text/x-python",
   "name": "python",
   "nbconvert_exporter": "python",
   "pygments_lexer": "ipython3",
   "version": "3.6.13"
  },
  "orig_nbformat": 4
 },
 "nbformat": 4,
 "nbformat_minor": 2
}
